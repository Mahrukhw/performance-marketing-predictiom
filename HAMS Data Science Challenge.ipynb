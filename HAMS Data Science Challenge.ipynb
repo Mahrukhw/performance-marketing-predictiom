{
 "cells": [
  {
   "cell_type": "code",
   "execution_count": 1,
   "id": "dc7a4909",
   "metadata": {},
   "outputs": [],
   "source": [
    "#!pip install pymc4"
   ]
  },
  {
   "cell_type": "code",
   "execution_count": 2,
   "id": "14dcc25e",
   "metadata": {},
   "outputs": [],
   "source": [
    "#!pip install aesara"
   ]
  },
  {
   "cell_type": "code",
   "execution_count": 3,
   "id": "32bff90f",
   "metadata": {},
   "outputs": [],
   "source": [
    "#!pip install prophet"
   ]
  },
  {
   "cell_type": "markdown",
   "id": "e01ff7ee",
   "metadata": {},
   "source": [
    "Carryover effect\n",
    "Mathematical functions can be used to model the carryover effect\n",
    "- geodecay transformation\n",
    "- Adstock transformation\n"
   ]
  },
  {
   "cell_type": "code",
   "execution_count": 4,
   "id": "57396223",
   "metadata": {},
   "outputs": [],
   "source": [
    "\n",
    "#!pip install plotnine"
   ]
  },
  {
   "cell_type": "code",
   "execution_count": 5,
   "id": "d09c5433",
   "metadata": {},
   "outputs": [],
   "source": [
    "import pandas as pd\n",
    "import numpy as np\n",
    "import math\n",
    "import sys\n",
    "import os\n"
   ]
  },
  {
   "cell_type": "code",
   "execution_count": 6,
   "id": "e43c4232",
   "metadata": {},
   "outputs": [],
   "source": [
    "import matplotlib.pyplot as plt\n",
    "plt.rcParams['font.size'] = 18\n",
    "import seaborn as sns\n",
    "\n",
    "from scipy.stats.mstats import mquantiles\n",
    "\n",
    "from plotnine import * "
   ]
  },
  {
   "cell_type": "code",
   "execution_count": 7,
   "id": "97066859",
   "metadata": {},
   "outputs": [],
   "source": [
    "import pymc3 as pm\n",
    "import arviz as az\n",
    "\n",
    "#import aesara\n",
    "#import aesara.tensor as at\n",
    "import theano.tensor as tt"
   ]
  },
  {
   "cell_type": "code",
   "execution_count": 8,
   "id": "709e0da2",
   "metadata": {},
   "outputs": [],
   "source": [
    "\n",
    "from sklearn.preprocessing import MinMaxScaler, StandardScaler, PowerTransformer\n",
    "from sklearn.metrics import mean_absolute_percentage_error, mean_squared_error"
   ]
  },
  {
   "cell_type": "code",
   "execution_count": 9,
   "id": "79b41a79",
   "metadata": {},
   "outputs": [],
   "source": [
    "from scipy import optimize\n",
    "from prophet import Prophet"
   ]
  },
  {
   "cell_type": "code",
   "execution_count": 10,
   "id": "0dcd9528",
   "metadata": {},
   "outputs": [],
   "source": [
    "data = pd.read_csv(\"/Users/mahrukhwaqar/datascience/recruitment_challenge/MMM_test_data.csv\")"
   ]
  },
  {
   "cell_type": "code",
   "execution_count": 11,
   "id": "98b27dbe",
   "metadata": {},
   "outputs": [
    {
     "data": {
      "text/html": [
       "<div>\n",
       "<style scoped>\n",
       "    .dataframe tbody tr th:only-of-type {\n",
       "        vertical-align: middle;\n",
       "    }\n",
       "\n",
       "    .dataframe tbody tr th {\n",
       "        vertical-align: top;\n",
       "    }\n",
       "\n",
       "    .dataframe thead th {\n",
       "        text-align: right;\n",
       "    }\n",
       "</style>\n",
       "<table border=\"1\" class=\"dataframe\">\n",
       "  <thead>\n",
       "    <tr style=\"text-align: right;\">\n",
       "      <th></th>\n",
       "      <th>start_of_week</th>\n",
       "      <th>revenue</th>\n",
       "      <th>spend_channel_1</th>\n",
       "      <th>spend_channel_2</th>\n",
       "      <th>spend_channel_3</th>\n",
       "      <th>spend_channel_4</th>\n",
       "      <th>spend_channel_5</th>\n",
       "      <th>spend_channel_6</th>\n",
       "      <th>spend_channel_7</th>\n",
       "    </tr>\n",
       "  </thead>\n",
       "  <tbody>\n",
       "    <tr>\n",
       "      <th>0</th>\n",
       "      <td>30-08-20</td>\n",
       "      <td>157906.75</td>\n",
       "      <td>2625.48</td>\n",
       "      <td>262.71</td>\n",
       "      <td>12954.12</td>\n",
       "      <td>3609.63</td>\n",
       "      <td>12955.29</td>\n",
       "      <td>12659.12</td>\n",
       "      <td>19379.79</td>\n",
       "    </tr>\n",
       "    <tr>\n",
       "      <th>1</th>\n",
       "      <td>06-09-20</td>\n",
       "      <td>186425.68</td>\n",
       "      <td>2634.01</td>\n",
       "      <td>108.66</td>\n",
       "      <td>8760.28</td>\n",
       "      <td>4560.60</td>\n",
       "      <td>12747.70</td>\n",
       "      <td>12338.18</td>\n",
       "      <td>22473.45</td>\n",
       "    </tr>\n",
       "    <tr>\n",
       "      <th>2</th>\n",
       "      <td>13-09-20</td>\n",
       "      <td>161607.39</td>\n",
       "      <td>2087.08</td>\n",
       "      <td>110.32</td>\n",
       "      <td>7155.42</td>\n",
       "      <td>4362.96</td>\n",
       "      <td>15015.41</td>\n",
       "      <td>10811.15</td>\n",
       "      <td>22596.05</td>\n",
       "    </tr>\n",
       "    <tr>\n",
       "      <th>3</th>\n",
       "      <td>20-09-20</td>\n",
       "      <td>180089.13</td>\n",
       "      <td>1690.70</td>\n",
       "      <td>52.79</td>\n",
       "      <td>15185.22</td>\n",
       "      <td>3883.41</td>\n",
       "      <td>15521.41</td>\n",
       "      <td>12890.22</td>\n",
       "      <td>24728.73</td>\n",
       "    </tr>\n",
       "    <tr>\n",
       "      <th>4</th>\n",
       "      <td>27-09-20</td>\n",
       "      <td>217793.98</td>\n",
       "      <td>1547.30</td>\n",
       "      <td>80.56</td>\n",
       "      <td>18524.05</td>\n",
       "      <td>4043.09</td>\n",
       "      <td>15793.74</td>\n",
       "      <td>12642.55</td>\n",
       "      <td>26515.48</td>\n",
       "    </tr>\n",
       "    <tr>\n",
       "      <th>...</th>\n",
       "      <td>...</td>\n",
       "      <td>...</td>\n",
       "      <td>...</td>\n",
       "      <td>...</td>\n",
       "      <td>...</td>\n",
       "      <td>...</td>\n",
       "      <td>...</td>\n",
       "      <td>...</td>\n",
       "      <td>...</td>\n",
       "    </tr>\n",
       "    <tr>\n",
       "      <th>99</th>\n",
       "      <td>24-07-22</td>\n",
       "      <td>72021.50</td>\n",
       "      <td>0.00</td>\n",
       "      <td>1118.78</td>\n",
       "      <td>22305.10</td>\n",
       "      <td>4566.01</td>\n",
       "      <td>2987.70</td>\n",
       "      <td>0.00</td>\n",
       "      <td>19916.88</td>\n",
       "    </tr>\n",
       "    <tr>\n",
       "      <th>100</th>\n",
       "      <td>31-07-22</td>\n",
       "      <td>90786.21</td>\n",
       "      <td>0.00</td>\n",
       "      <td>122.16</td>\n",
       "      <td>15812.65</td>\n",
       "      <td>4795.51</td>\n",
       "      <td>3293.40</td>\n",
       "      <td>0.00</td>\n",
       "      <td>22687.98</td>\n",
       "    </tr>\n",
       "    <tr>\n",
       "      <th>101</th>\n",
       "      <td>07-08-22</td>\n",
       "      <td>105929.40</td>\n",
       "      <td>0.00</td>\n",
       "      <td>754.09</td>\n",
       "      <td>12166.85</td>\n",
       "      <td>4961.12</td>\n",
       "      <td>4057.03</td>\n",
       "      <td>0.00</td>\n",
       "      <td>30142.64</td>\n",
       "    </tr>\n",
       "    <tr>\n",
       "      <th>102</th>\n",
       "      <td>14-08-22</td>\n",
       "      <td>90506.31</td>\n",
       "      <td>0.00</td>\n",
       "      <td>1043.22</td>\n",
       "      <td>10856.58</td>\n",
       "      <td>4431.13</td>\n",
       "      <td>3086.81</td>\n",
       "      <td>0.00</td>\n",
       "      <td>28622.78</td>\n",
       "    </tr>\n",
       "    <tr>\n",
       "      <th>103</th>\n",
       "      <td>21-08-22</td>\n",
       "      <td>84394.50</td>\n",
       "      <td>0.00</td>\n",
       "      <td>387.94</td>\n",
       "      <td>10757.63</td>\n",
       "      <td>4693.41</td>\n",
       "      <td>2972.11</td>\n",
       "      <td>0.00</td>\n",
       "      <td>30547.18</td>\n",
       "    </tr>\n",
       "  </tbody>\n",
       "</table>\n",
       "<p>104 rows × 9 columns</p>\n",
       "</div>"
      ],
      "text/plain": [
       "    start_of_week    revenue  spend_channel_1  spend_channel_2  \\\n",
       "0        30-08-20  157906.75          2625.48           262.71   \n",
       "1        06-09-20  186425.68          2634.01           108.66   \n",
       "2        13-09-20  161607.39          2087.08           110.32   \n",
       "3        20-09-20  180089.13          1690.70            52.79   \n",
       "4        27-09-20  217793.98          1547.30            80.56   \n",
       "..            ...        ...              ...              ...   \n",
       "99       24-07-22   72021.50             0.00          1118.78   \n",
       "100      31-07-22   90786.21             0.00           122.16   \n",
       "101      07-08-22  105929.40             0.00           754.09   \n",
       "102      14-08-22   90506.31             0.00          1043.22   \n",
       "103      21-08-22   84394.50             0.00           387.94   \n",
       "\n",
       "     spend_channel_3  spend_channel_4  spend_channel_5  spend_channel_6  \\\n",
       "0           12954.12          3609.63         12955.29         12659.12   \n",
       "1            8760.28          4560.60         12747.70         12338.18   \n",
       "2            7155.42          4362.96         15015.41         10811.15   \n",
       "3           15185.22          3883.41         15521.41         12890.22   \n",
       "4           18524.05          4043.09         15793.74         12642.55   \n",
       "..               ...              ...              ...              ...   \n",
       "99          22305.10          4566.01          2987.70             0.00   \n",
       "100         15812.65          4795.51          3293.40             0.00   \n",
       "101         12166.85          4961.12          4057.03             0.00   \n",
       "102         10856.58          4431.13          3086.81             0.00   \n",
       "103         10757.63          4693.41          2972.11             0.00   \n",
       "\n",
       "     spend_channel_7  \n",
       "0           19379.79  \n",
       "1           22473.45  \n",
       "2           22596.05  \n",
       "3           24728.73  \n",
       "4           26515.48  \n",
       "..               ...  \n",
       "99          19916.88  \n",
       "100         22687.98  \n",
       "101         30142.64  \n",
       "102         28622.78  \n",
       "103         30547.18  \n",
       "\n",
       "[104 rows x 9 columns]"
      ]
     },
     "execution_count": 11,
     "metadata": {},
     "output_type": "execute_result"
    }
   ],
   "source": [
    "data"
   ]
  },
  {
   "cell_type": "code",
   "execution_count": 12,
   "id": "cc498f46",
   "metadata": {},
   "outputs": [
    {
     "name": "stdout",
     "output_type": "stream",
     "text": [
      "start_of_week       object\n",
      "revenue            float64\n",
      "spend_channel_1    float64\n",
      "spend_channel_2    float64\n",
      "spend_channel_3    float64\n",
      "spend_channel_4    float64\n",
      "spend_channel_5    float64\n",
      "spend_channel_6    float64\n",
      "spend_channel_7    float64\n",
      "dtype: object\n"
     ]
    }
   ],
   "source": [
    "#print(type('revenue'))\n",
    "print(data.dtypes)"
   ]
  },
  {
   "cell_type": "code",
   "execution_count": 13,
   "id": "318bfafe",
   "metadata": {},
   "outputs": [],
   "source": [
    "#data['revenue'] = data['revenue'].astype(float)"
   ]
  },
  {
   "cell_type": "code",
   "execution_count": 14,
   "id": "05f73d85",
   "metadata": {},
   "outputs": [
    {
     "name": "stdout",
     "output_type": "stream",
     "text": [
      "<class 'str'>\n"
     ]
    }
   ],
   "source": [
    "print(type('spend_channel_2'))"
   ]
  },
  {
   "cell_type": "code",
   "execution_count": 15,
   "id": "011f764c",
   "metadata": {},
   "outputs": [],
   "source": [
    "X = data.drop(columns=['revenue', 'start_of_week'])\n",
    "y = [\"revenue\"]"
   ]
  },
  {
   "cell_type": "code",
   "execution_count": 16,
   "id": "e488b999",
   "metadata": {},
   "outputs": [],
   "source": [
    "def saturate(x, a):\n",
    "    return 1 - tt.exp(-a*x)\n",
    "\n",
    "def carryover(x, strength, length=21):\n",
    "    w = tt.as_tensor_variable(\n",
    "        [tt.power(strength, i) for i in range(length)]\n",
    "    )\n",
    "    \n",
    "    x_lags = tt.stack(\n",
    "        [tt.concatenate([\n",
    "            tt.zeros(i),\n",
    "            x[:x.shape[0]-i]\n",
    "        ]) for i in range(length)]\n",
    "    )\n",
    "    \n",
    "    return tt.dot(w, x_lags)"
   ]
  },
  {
   "cell_type": "code",
   "execution_count": 17,
   "id": "88870a3b",
   "metadata": {},
   "outputs": [
    {
     "ename": "ValueError",
     "evalue": "could not convert string to float: 'revenue'",
     "output_type": "error",
     "traceback": [
      "\u001b[0;31m---------------------------------------------------------------------------\u001b[0m",
      "\u001b[0;31mValueError\u001b[0m                                Traceback (most recent call last)",
      "Input \u001b[0;32mIn [17]\u001b[0m, in \u001b[0;36m<cell line: 1>\u001b[0;34m()\u001b[0m\n\u001b[1;32m     23\u001b[0m base \u001b[38;5;241m=\u001b[39m pm\u001b[38;5;241m.\u001b[39mExponential(\u001b[38;5;124m'\u001b[39m\u001b[38;5;124mbase\u001b[39m\u001b[38;5;124m'\u001b[39m, lam\u001b[38;5;241m=\u001b[39m\u001b[38;5;241m0.0001\u001b[39m)\n\u001b[1;32m     24\u001b[0m noise \u001b[38;5;241m=\u001b[39m pm\u001b[38;5;241m.\u001b[39mExponential(\u001b[38;5;124m'\u001b[39m\u001b[38;5;124mnoise\u001b[39m\u001b[38;5;124m'\u001b[39m, lam\u001b[38;5;241m=\u001b[39m\u001b[38;5;241m0.0001\u001b[39m)\n\u001b[0;32m---> 26\u001b[0m sales \u001b[38;5;241m=\u001b[39m \u001b[43mpm\u001b[49m\u001b[38;5;241;43m.\u001b[39;49m\u001b[43mNormal\u001b[49m\u001b[43m(\u001b[49m\n\u001b[1;32m     27\u001b[0m \u001b[43m    \u001b[49m\u001b[38;5;124;43m'\u001b[39;49m\u001b[38;5;124;43mrevenue\u001b[39;49m\u001b[38;5;124;43m'\u001b[39;49m\u001b[43m,\u001b[49m\n\u001b[1;32m     28\u001b[0m \u001b[43m    \u001b[49m\u001b[43mmu\u001b[49m\u001b[38;5;241;43m=\u001b[39;49m\u001b[38;5;28;43msum\u001b[39;49m\u001b[43m(\u001b[49m\u001b[43mchannel_contributions\u001b[49m\u001b[43m)\u001b[49m\u001b[43m \u001b[49m\u001b[38;5;241;43m+\u001b[39;49m\u001b[43m \u001b[49m\u001b[43mbase\u001b[49m\u001b[43m,\u001b[49m\n\u001b[1;32m     29\u001b[0m \u001b[43m    \u001b[49m\u001b[43msigma\u001b[49m\u001b[38;5;241;43m=\u001b[39;49m\u001b[43mnoise\u001b[49m\u001b[43m,\u001b[49m\n\u001b[1;32m     30\u001b[0m \u001b[43m    \u001b[49m\u001b[43mobserved\u001b[49m\u001b[38;5;241;43m=\u001b[39;49m\u001b[43my\u001b[49m\n\u001b[1;32m     31\u001b[0m \u001b[43m\u001b[49m\u001b[43m)\u001b[49m\n\u001b[1;32m     33\u001b[0m trace \u001b[38;5;241m=\u001b[39m pm\u001b[38;5;241m.\u001b[39msample(return_inferencedata\u001b[38;5;241m=\u001b[39m\u001b[38;5;28;01mTrue\u001b[39;00m, tune\u001b[38;5;241m=\u001b[39m\u001b[38;5;241m3000\u001b[39m)\n",
      "File \u001b[0;32m~/opt/anaconda3/lib/python3.9/site-packages/pymc3/distributions/distribution.py:125\u001b[0m, in \u001b[0;36mDistribution.__new__\u001b[0;34m(cls, name, *args, **kwargs)\u001b[0m\n\u001b[1;32m    123\u001b[0m \u001b[38;5;28;01melse\u001b[39;00m:\n\u001b[1;32m    124\u001b[0m     dist \u001b[38;5;241m=\u001b[39m \u001b[38;5;28mcls\u001b[39m\u001b[38;5;241m.\u001b[39mdist(\u001b[38;5;241m*\u001b[39margs, \u001b[38;5;241m*\u001b[39m\u001b[38;5;241m*\u001b[39mkwargs)\n\u001b[0;32m--> 125\u001b[0m \u001b[38;5;28;01mreturn\u001b[39;00m \u001b[43mmodel\u001b[49m\u001b[38;5;241;43m.\u001b[39;49m\u001b[43mVar\u001b[49m\u001b[43m(\u001b[49m\u001b[43mname\u001b[49m\u001b[43m,\u001b[49m\u001b[43m \u001b[49m\u001b[43mdist\u001b[49m\u001b[43m,\u001b[49m\u001b[43m \u001b[49m\u001b[43mdata\u001b[49m\u001b[43m,\u001b[49m\u001b[43m \u001b[49m\u001b[43mtotal_size\u001b[49m\u001b[43m,\u001b[49m\u001b[43m \u001b[49m\u001b[43mdims\u001b[49m\u001b[38;5;241;43m=\u001b[39;49m\u001b[43mdims\u001b[49m\u001b[43m)\u001b[49m\n",
      "File \u001b[0;32m~/opt/anaconda3/lib/python3.9/site-packages/pymc3/model.py:1177\u001b[0m, in \u001b[0;36mModel.Var\u001b[0;34m(self, name, dist, data, total_size, dims)\u001b[0m\n\u001b[1;32m   1175\u001b[0m \u001b[38;5;28;01melse\u001b[39;00m:\n\u001b[1;32m   1176\u001b[0m     \u001b[38;5;28;01mwith\u001b[39;00m \u001b[38;5;28mself\u001b[39m:\n\u001b[0;32m-> 1177\u001b[0m         var \u001b[38;5;241m=\u001b[39m \u001b[43mObservedRV\u001b[49m\u001b[43m(\u001b[49m\n\u001b[1;32m   1178\u001b[0m \u001b[43m            \u001b[49m\u001b[43mname\u001b[49m\u001b[38;5;241;43m=\u001b[39;49m\u001b[43mname\u001b[49m\u001b[43m,\u001b[49m\n\u001b[1;32m   1179\u001b[0m \u001b[43m            \u001b[49m\u001b[43mdata\u001b[49m\u001b[38;5;241;43m=\u001b[39;49m\u001b[43mdata\u001b[49m\u001b[43m,\u001b[49m\n\u001b[1;32m   1180\u001b[0m \u001b[43m            \u001b[49m\u001b[43mdistribution\u001b[49m\u001b[38;5;241;43m=\u001b[39;49m\u001b[43mdist\u001b[49m\u001b[43m,\u001b[49m\n\u001b[1;32m   1181\u001b[0m \u001b[43m            \u001b[49m\u001b[43mtotal_size\u001b[49m\u001b[38;5;241;43m=\u001b[39;49m\u001b[43mtotal_size\u001b[49m\u001b[43m,\u001b[49m\n\u001b[1;32m   1182\u001b[0m \u001b[43m            \u001b[49m\u001b[43mmodel\u001b[49m\u001b[38;5;241;43m=\u001b[39;49m\u001b[38;5;28;43mself\u001b[39;49m\u001b[43m,\u001b[49m\n\u001b[1;32m   1183\u001b[0m \u001b[43m        \u001b[49m\u001b[43m)\u001b[49m\n\u001b[1;32m   1184\u001b[0m     \u001b[38;5;28mself\u001b[39m\u001b[38;5;241m.\u001b[39mobserved_RVs\u001b[38;5;241m.\u001b[39mappend(var)\n\u001b[1;32m   1185\u001b[0m     \u001b[38;5;28;01mif\u001b[39;00m var\u001b[38;5;241m.\u001b[39mmissing_values:\n",
      "File \u001b[0;32m~/opt/anaconda3/lib/python3.9/site-packages/pymc3/model.py:1814\u001b[0m, in \u001b[0;36mObservedRV.__init__\u001b[0;34m(self, type, owner, index, name, data, distribution, total_size, model)\u001b[0m\n\u001b[1;32m   1811\u001b[0m     \u001b[38;5;28mtype\u001b[39m \u001b[38;5;241m=\u001b[39m data\u001b[38;5;241m.\u001b[39mtype\n\u001b[1;32m   1813\u001b[0m \u001b[38;5;28;01mif\u001b[39;00m \u001b[38;5;28mtype\u001b[39m \u001b[38;5;129;01mis\u001b[39;00m \u001b[38;5;28;01mNone\u001b[39;00m:\n\u001b[0;32m-> 1814\u001b[0m     data \u001b[38;5;241m=\u001b[39m \u001b[43mpandas_to_array\u001b[49m\u001b[43m(\u001b[49m\u001b[43mdata\u001b[49m\u001b[43m)\u001b[49m\n\u001b[1;32m   1815\u001b[0m     \u001b[38;5;28;01mif\u001b[39;00m \u001b[38;5;28misinstance\u001b[39m(data, theano\u001b[38;5;241m.\u001b[39mgraph\u001b[38;5;241m.\u001b[39mbasic\u001b[38;5;241m.\u001b[39mVariable):\n\u001b[1;32m   1816\u001b[0m         \u001b[38;5;28mtype\u001b[39m \u001b[38;5;241m=\u001b[39m data\u001b[38;5;241m.\u001b[39mtype\n",
      "File \u001b[0;32m~/opt/anaconda3/lib/python3.9/site-packages/pymc3/model.py:1742\u001b[0m, in \u001b[0;36mpandas_to_array\u001b[0;34m(data)\u001b[0m\n\u001b[1;32m   1739\u001b[0m         \u001b[38;5;28;01mreturn\u001b[39;00m pm\u001b[38;5;241m.\u001b[39mfloatX(ret)\n\u001b[1;32m   1740\u001b[0m \u001b[38;5;66;03m# needed for uses of this function other than with pm.Data:\u001b[39;00m\n\u001b[1;32m   1741\u001b[0m \u001b[38;5;28;01melse\u001b[39;00m:\n\u001b[0;32m-> 1742\u001b[0m     \u001b[38;5;28;01mreturn\u001b[39;00m \u001b[43mpm\u001b[49m\u001b[38;5;241;43m.\u001b[39;49m\u001b[43mfloatX\u001b[49m\u001b[43m(\u001b[49m\u001b[43mret\u001b[49m\u001b[43m)\u001b[49m\n",
      "File \u001b[0;32m~/opt/anaconda3/lib/python3.9/site-packages/pymc3/theanof.py:83\u001b[0m, in \u001b[0;36mfloatX\u001b[0;34m(X)\u001b[0m\n\u001b[1;32m     79\u001b[0m \u001b[38;5;124;03m\"\"\"\u001b[39;00m\n\u001b[1;32m     80\u001b[0m \u001b[38;5;124;03mConvert a theano tensor or numpy array to theano.config.floatX type.\u001b[39;00m\n\u001b[1;32m     81\u001b[0m \u001b[38;5;124;03m\"\"\"\u001b[39;00m\n\u001b[1;32m     82\u001b[0m \u001b[38;5;28;01mtry\u001b[39;00m:\n\u001b[0;32m---> 83\u001b[0m     \u001b[38;5;28;01mreturn\u001b[39;00m \u001b[43mX\u001b[49m\u001b[38;5;241;43m.\u001b[39;49m\u001b[43mastype\u001b[49m\u001b[43m(\u001b[49m\u001b[43mtheano\u001b[49m\u001b[38;5;241;43m.\u001b[39;49m\u001b[43mconfig\u001b[49m\u001b[38;5;241;43m.\u001b[39;49m\u001b[43mfloatX\u001b[49m\u001b[43m)\u001b[49m\n\u001b[1;32m     84\u001b[0m \u001b[38;5;28;01mexcept\u001b[39;00m \u001b[38;5;167;01mAttributeError\u001b[39;00m:\n\u001b[1;32m     85\u001b[0m     \u001b[38;5;66;03m# Scalar passed\u001b[39;00m\n\u001b[1;32m     86\u001b[0m     \u001b[38;5;28;01mreturn\u001b[39;00m np\u001b[38;5;241m.\u001b[39masarray(X, dtype\u001b[38;5;241m=\u001b[39mtheano\u001b[38;5;241m.\u001b[39mconfig\u001b[38;5;241m.\u001b[39mfloatX)\n",
      "\u001b[0;31mValueError\u001b[0m: could not convert string to float: 'revenue'"
     ]
    }
   ],
   "source": [
    "\n",
    "with pm.Model() as mmm:\n",
    "    channel_contributions = []\n",
    "    \n",
    "    for channel in X.columns:\n",
    "        coef = pm.Exponential(f'coef_{channel}', lam=0.0001)\n",
    "        sat = pm.Exponential(f'sat_{channel}', lam=1)\n",
    "        car = pm.Beta(f'car_{channel}', alpha=2, beta=2)\n",
    "        \n",
    "        channel_data = X[channel].values\n",
    "        channel_contribution = pm.Deterministic(\n",
    "            f'contribution_{channel}',\n",
    "            coef * saturate(\n",
    "                carryover(\n",
    "                    channel_data,\n",
    "                    car\n",
    "                ),\n",
    "                sat\n",
    "            )\n",
    "        )\n",
    "        \n",
    "        channel_contributions.append(channel_contribution)\n",
    "        \n",
    "    base = pm.Exponential('base', lam=0.0001)\n",
    "    noise = pm.Exponential('noise', lam=0.0001)\n",
    "    \n",
    "    sales = pm.Normal(\n",
    "        'revenue',\n",
    "        mu=sum(channel_contributions) + base,\n",
    "        sigma=noise,\n",
    "        observed=y\n",
    "    )\n",
    "    \n",
    "    trace = pm.sample(return_inferencedata=True, tune=3000)"
   ]
  },
  {
   "cell_type": "code",
   "execution_count": null,
   "id": "f78975f3",
   "metadata": {},
   "outputs": [],
   "source": [
    "az.plot_posterior(\n",
    "    trace,\n",
    "    var_names=['~contribution'],\n",
    "    filter_vars='like'\n",
    ")"
   ]
  }
 ],
 "metadata": {
  "kernelspec": {
   "display_name": "Python 3 (ipykernel)",
   "language": "python",
   "name": "python3"
  },
  "language_info": {
   "codemirror_mode": {
    "name": "ipython",
    "version": 3
   },
   "file_extension": ".py",
   "mimetype": "text/x-python",
   "name": "python",
   "nbconvert_exporter": "python",
   "pygments_lexer": "ipython3",
   "version": "3.9.12"
  }
 },
 "nbformat": 4,
 "nbformat_minor": 5
}
